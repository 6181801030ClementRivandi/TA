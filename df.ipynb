{
 "cells": [
  {
   "cell_type": "markdown",
   "metadata": {},
   "source": [
    "NPM: 6181801030 \n",
    "\n",
    "Nama: Clement Rivandi\n",
    "\n",
    "NPM: 6181801032\n",
    "\n",
    "Nama: Ivan Limosi"
   ]
  },
  {
   "cell_type": "code",
   "execution_count": 2,
   "metadata": {},
   "outputs": [],
   "source": [
    "import numpy as np\n",
    "import pandas as pd\n",
    "import matplotlib.pyplot as plt"
   ]
  },
  {
   "cell_type": "code",
   "execution_count": 3,
   "metadata": {},
   "outputs": [],
   "source": [
    "\n",
    "# Fungsi untuk membaca file diamonds.csv dan menyimpannya dalam variabel data\n",
    "data = pd.read_csv('diamonds.csv')"
   ]
  },
  {
   "cell_type": "code",
   "execution_count": 5,
   "metadata": {},
   "outputs": [],
   "source": [
    "# Lengkapi kode Anda untuk menjawab Tugas 4 di sini.\n",
    "\n",
    "# import seaborn as sb\n",
    "# cor=data.corr(method='pearson')\n",
    "\n",
    "\n",
    "# #perhitungan nilai korelasi atribut APS dan pembuatan Heat Map\n",
    "# df_corr = data.corr(method='pearson')\n",
    "\n",
    "# fig, ax = plt.subplots(figsize=(18, 14))\n",
    "# # mask\n",
    "# mask = np.triu(np.ones_like(df_corr, dtype=np.bool))\n",
    "# # adjust mask and df\n",
    "# mask = mask[1:, :-1]\n",
    "# corr = df_corr.iloc[1:,:-1].copy()\n",
    "# # color map\n",
    "# cmap = sb.diverging_palette(0, 230, 90, 60, as_cmap=True)\n",
    "# # plot heatmap\n",
    "# sb.heatmap(corr, mask=mask, annot=True, fmt=\".2f\", \n",
    "#            linewidths=5, cmap=cmap, vmin=-1, vmax=1, \n",
    "#            cbar_kws={\"shrink\": .8}, square=True)\n",
    "\n"
   ]
  }
 ],
 "metadata": {
  "interpreter": {
   "hash": "a02053bd04f27384bfccf2fdec3e397e01b727918f8df611dcf932be3e152bef"
  },
  "kernelspec": {
   "display_name": "Python 3.9.7 ('base')",
   "language": "python",
   "name": "python3"
  },
  "language_info": {
   "codemirror_mode": {
    "name": "ipython",
    "version": 3
   },
   "file_extension": ".py",
   "mimetype": "text/x-python",
   "name": "python",
   "nbconvert_exporter": "python",
   "pygments_lexer": "ipython3",
   "version": "3.9.7"
  }
 },
 "nbformat": 4,
 "nbformat_minor": 4
}
